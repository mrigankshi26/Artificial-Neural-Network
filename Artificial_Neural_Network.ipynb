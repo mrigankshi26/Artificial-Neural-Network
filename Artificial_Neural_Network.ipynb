{
  "nbformat": 4,
  "nbformat_minor": 0,
  "metadata": {
    "colab": {
      "name": " Artificial Neural Network.ipynb",
      "provenance": [],
      "collapsed_sections": []
    },
    "kernelspec": {
      "name": "python3",
      "display_name": "Python 3"
    },
    "language_info": {
      "name": "python"
    }
  },
  "cells": [
    {
      "cell_type": "markdown",
      "source": [
        "# Part 1 - Data Preprocessing"
      ],
      "metadata": {
        "id": "WL6LPS1_brFX"
      }
    },
    {
      "cell_type": "code",
      "execution_count": null,
      "metadata": {
        "id": "9b8dBHCebl1Q"
      },
      "outputs": [],
      "source": [
        "# Importing the libraries\n",
        "import numpy as np\n",
        "import matplotlib.pyplot as plt\n",
        "import pandas as pd\n"
      ]
    },
    {
      "cell_type": "code",
      "source": [
        "# Importing the dataset\n",
        "dataset = pd.read_csv('/content/drive/MyDrive/Churn_Modelling.csv')\n",
        "X = dataset.iloc[:, 3:13]\n",
        "y = dataset.iloc[:, 13]"
      ],
      "metadata": {
        "id": "mWVh19BObuYC"
      },
      "execution_count": null,
      "outputs": []
    },
    {
      "cell_type": "code",
      "source": [
        "#Create dummy variables\n",
        "geography=pd.get_dummies(X[\"Geography\"],drop_first=True)\n",
        "gender=pd.get_dummies(X['Gender'],drop_first=True)\n",
        "\n",
        "## Concatenate the Data Frames\n",
        "\n",
        "X=pd.concat([X,geography,gender],axis=1)\n",
        "\n",
        "## Drop Unnecessary columns\n",
        "X=X.drop(['Geography','Gender'],axis=1)\n"
      ],
      "metadata": {
        "id": "D98DoHzfbytU"
      },
      "execution_count": null,
      "outputs": []
    },
    {
      "cell_type": "code",
      "source": [
        "# Splitting the dataset into the Training set and Test set\n",
        "from sklearn.model_selection import train_test_split\n",
        "X_train, X_test, y_train, y_test = train_test_split(X, y, test_size = 0.2, random_state = 0)\n",
        "\n",
        "# Feature Scaling\n",
        "from sklearn.preprocessing import StandardScaler\n",
        "sc = StandardScaler()\n",
        "X_train = sc.fit_transform(X_train)\n",
        "X_test = sc.transform(X_test)"
      ],
      "metadata": {
        "id": "nXcXBPkueFZ6"
      },
      "execution_count": null,
      "outputs": []
    },
    {
      "cell_type": "markdown",
      "source": [
        "# Part 2 - Now let's make the ANN!"
      ],
      "metadata": {
        "id": "Wnt0x0NdexGE"
      }
    },
    {
      "cell_type": "code",
      "source": [
        "# Importing the Keras libraries and packages\n",
        "import keras\n",
        "from keras.models import Sequential\n",
        "from keras.layers import Dense #any hidden layer that u need to create then we use dense library\n",
        "# from keras.layers import LeakyReLU,PReLU,ELU\n",
        "from keras.layers import Dropout # dropout is basically regularization parameter & we will use it whenever neural networks are quite deep\n"
      ],
      "metadata": {
        "id": "qoSHE3xherzw"
      },
      "execution_count": null,
      "outputs": []
    },
    {
      "cell_type": "code",
      "source": [
        "# Initialising the ANN\n",
        "classifier = Sequential()  #empty neural network currently\n",
        "\n",
        "# Adding the input layer and the first hidden layer\n",
        "classifier.add(Dense(units= 6, kernel_initializer= 'he_uniform',activation='relu',input_dim = 11))\n",
        "#Whenever we are using relu activation function ,weight initialization called as 'he_uniform' and 'he_normal' works well\n",
        "\n",
        "# all hidden layers should be having relu or leaky relu bcz those are the most famous activation func and relu prevents vanishing gradient\n",
        "#problem as compared to the sigmoid"
      ],
      "metadata": {
        "id": "MBFZ6nI2ez_5"
      },
      "execution_count": null,
      "outputs": []
    },
    {
      "cell_type": "code",
      "source": [
        "# Adding the second hidden layer\n",
        "classifier.add(Dense(units = 6, kernel_initializer = 'he_uniform',activation='relu'))\n",
        "# Adding the output layer\n",
        "classifier.add(Dense(units = 1, kernel_initializer = 'glorot_uniform', activation = 'sigmoid'))\n",
        " # classifier.add(Dropout(0.3)) by using this accuracy is decreased"
      ],
      "metadata": {
        "id": "yC3_QmjhgYNZ"
      },
      "execution_count": null,
      "outputs": []
    },
    {
      "cell_type": "code",
      "source": [
        "# Compiling the ANN\n",
        "classifier.compile(optimizer = 'Adamax', loss = 'binary_crossentropy', metrics = ['accuracy'])\n",
        "#Always remember that whenever your output is either 0 or 1 u should use binary crossentropy ,if ur ouput has multiple categories then u \n",
        "# should use categorical crossentropy\n",
        "\n",
        "# Fitting the ANN to the Training set\n",
        "model_history=classifier.fit(X_train, y_train,validation_split=0.33, batch_size = 10, epochs = 100)\n",
        "# i am also going to take validation split so that i can test my dataset separately or test this model separately for the test dataset"
      ],
      "metadata": {
        "colab": {
          "base_uri": "https://localhost:8080/"
        },
        "id": "_0keD-SphhDE",
        "outputId": "ba2d9be9-8752-40c0-a804-174390f7d2a1"
      },
      "execution_count": null,
      "outputs": [
        {
          "output_type": "stream",
          "name": "stdout",
          "text": [
            "Epoch 1/100\n",
            "536/536 [==============================] - 3s 4ms/step - loss: 0.6577 - accuracy: 0.6893 - val_loss: 0.5877 - val_accuracy: 0.7402\n",
            "Epoch 2/100\n",
            "536/536 [==============================] - 2s 4ms/step - loss: 0.5650 - accuracy: 0.7647 - val_loss: 0.5311 - val_accuracy: 0.7830\n",
            "Epoch 3/100\n",
            "536/536 [==============================] - 2s 3ms/step - loss: 0.5232 - accuracy: 0.7893 - val_loss: 0.5022 - val_accuracy: 0.7929\n",
            "Epoch 4/100\n",
            "536/536 [==============================] - 1s 2ms/step - loss: 0.4991 - accuracy: 0.7936 - val_loss: 0.4853 - val_accuracy: 0.7955\n",
            "Epoch 5/100\n",
            "536/536 [==============================] - 1s 2ms/step - loss: 0.4835 - accuracy: 0.7977 - val_loss: 0.4731 - val_accuracy: 0.7974\n",
            "Epoch 6/100\n",
            "536/536 [==============================] - 1s 2ms/step - loss: 0.4715 - accuracy: 0.7987 - val_loss: 0.4631 - val_accuracy: 0.8012\n",
            "Epoch 7/100\n",
            "536/536 [==============================] - 1s 2ms/step - loss: 0.4613 - accuracy: 0.8005 - val_loss: 0.4541 - val_accuracy: 0.8042\n",
            "Epoch 8/100\n",
            "536/536 [==============================] - 1s 2ms/step - loss: 0.4526 - accuracy: 0.8044 - val_loss: 0.4468 - val_accuracy: 0.8042\n",
            "Epoch 9/100\n",
            "536/536 [==============================] - 1s 2ms/step - loss: 0.4451 - accuracy: 0.8050 - val_loss: 0.4406 - val_accuracy: 0.8035\n",
            "Epoch 10/100\n",
            "536/536 [==============================] - 1s 2ms/step - loss: 0.4387 - accuracy: 0.8065 - val_loss: 0.4353 - val_accuracy: 0.8073\n",
            "Epoch 11/100\n",
            "536/536 [==============================] - 1s 2ms/step - loss: 0.4326 - accuracy: 0.8099 - val_loss: 0.4305 - val_accuracy: 0.8065\n",
            "Epoch 12/100\n",
            "536/536 [==============================] - 1s 2ms/step - loss: 0.4272 - accuracy: 0.8147 - val_loss: 0.4262 - val_accuracy: 0.8107\n",
            "Epoch 13/100\n",
            "536/536 [==============================] - 1s 2ms/step - loss: 0.4223 - accuracy: 0.8171 - val_loss: 0.4226 - val_accuracy: 0.8133\n",
            "Epoch 14/100\n",
            "536/536 [==============================] - 1s 2ms/step - loss: 0.4176 - accuracy: 0.8194 - val_loss: 0.4189 - val_accuracy: 0.8145\n",
            "Epoch 15/100\n",
            "536/536 [==============================] - 1s 2ms/step - loss: 0.4132 - accuracy: 0.8227 - val_loss: 0.4156 - val_accuracy: 0.8171\n",
            "Epoch 16/100\n",
            "536/536 [==============================] - 1s 2ms/step - loss: 0.4093 - accuracy: 0.8250 - val_loss: 0.4126 - val_accuracy: 0.8183\n",
            "Epoch 17/100\n",
            "536/536 [==============================] - 1s 2ms/step - loss: 0.4059 - accuracy: 0.8263 - val_loss: 0.4099 - val_accuracy: 0.8209\n",
            "Epoch 18/100\n",
            "536/536 [==============================] - 1s 2ms/step - loss: 0.4024 - accuracy: 0.8265 - val_loss: 0.4071 - val_accuracy: 0.8213\n",
            "Epoch 19/100\n",
            "536/536 [==============================] - 1s 2ms/step - loss: 0.3990 - accuracy: 0.8293 - val_loss: 0.4041 - val_accuracy: 0.8239\n",
            "Epoch 20/100\n",
            "536/536 [==============================] - 1s 2ms/step - loss: 0.3956 - accuracy: 0.8332 - val_loss: 0.4016 - val_accuracy: 0.8273\n",
            "Epoch 21/100\n",
            "536/536 [==============================] - 1s 2ms/step - loss: 0.3922 - accuracy: 0.8349 - val_loss: 0.3990 - val_accuracy: 0.8292\n",
            "Epoch 22/100\n",
            "536/536 [==============================] - 1s 2ms/step - loss: 0.3889 - accuracy: 0.8358 - val_loss: 0.3966 - val_accuracy: 0.8296\n",
            "Epoch 23/100\n",
            "536/536 [==============================] - 1s 2ms/step - loss: 0.3857 - accuracy: 0.8378 - val_loss: 0.3942 - val_accuracy: 0.8315\n",
            "Epoch 24/100\n",
            "536/536 [==============================] - 1s 2ms/step - loss: 0.3827 - accuracy: 0.8367 - val_loss: 0.3923 - val_accuracy: 0.8315\n",
            "Epoch 25/100\n",
            "536/536 [==============================] - 1s 2ms/step - loss: 0.3800 - accuracy: 0.8391 - val_loss: 0.3902 - val_accuracy: 0.8319\n",
            "Epoch 26/100\n",
            "536/536 [==============================] - 1s 2ms/step - loss: 0.3774 - accuracy: 0.8412 - val_loss: 0.3884 - val_accuracy: 0.8338\n",
            "Epoch 27/100\n",
            "536/536 [==============================] - 1s 2ms/step - loss: 0.3750 - accuracy: 0.8408 - val_loss: 0.3868 - val_accuracy: 0.8342\n",
            "Epoch 28/100\n",
            "536/536 [==============================] - 1s 2ms/step - loss: 0.3728 - accuracy: 0.8418 - val_loss: 0.3852 - val_accuracy: 0.8349\n",
            "Epoch 29/100\n",
            "536/536 [==============================] - 1s 2ms/step - loss: 0.3707 - accuracy: 0.8421 - val_loss: 0.3836 - val_accuracy: 0.8364\n",
            "Epoch 30/100\n",
            "536/536 [==============================] - 1s 2ms/step - loss: 0.3687 - accuracy: 0.8434 - val_loss: 0.3823 - val_accuracy: 0.8353\n",
            "Epoch 31/100\n",
            "536/536 [==============================] - 1s 2ms/step - loss: 0.3669 - accuracy: 0.8436 - val_loss: 0.3810 - val_accuracy: 0.8360\n",
            "Epoch 32/100\n",
            "536/536 [==============================] - 1s 2ms/step - loss: 0.3651 - accuracy: 0.8466 - val_loss: 0.3796 - val_accuracy: 0.8376\n",
            "Epoch 33/100\n",
            "536/536 [==============================] - 1s 2ms/step - loss: 0.3632 - accuracy: 0.8449 - val_loss: 0.3783 - val_accuracy: 0.8383\n",
            "Epoch 34/100\n",
            "536/536 [==============================] - 1s 2ms/step - loss: 0.3616 - accuracy: 0.8466 - val_loss: 0.3773 - val_accuracy: 0.8395\n",
            "Epoch 35/100\n",
            "536/536 [==============================] - 1s 2ms/step - loss: 0.3600 - accuracy: 0.8477 - val_loss: 0.3760 - val_accuracy: 0.8402\n",
            "Epoch 36/100\n",
            "536/536 [==============================] - 1s 2ms/step - loss: 0.3584 - accuracy: 0.8485 - val_loss: 0.3749 - val_accuracy: 0.8398\n",
            "Epoch 37/100\n",
            "536/536 [==============================] - 1s 2ms/step - loss: 0.3571 - accuracy: 0.8489 - val_loss: 0.3740 - val_accuracy: 0.8413\n",
            "Epoch 38/100\n",
            "536/536 [==============================] - 1s 2ms/step - loss: 0.3558 - accuracy: 0.8490 - val_loss: 0.3732 - val_accuracy: 0.8425\n",
            "Epoch 39/100\n",
            "536/536 [==============================] - 1s 2ms/step - loss: 0.3545 - accuracy: 0.8489 - val_loss: 0.3723 - val_accuracy: 0.8436\n",
            "Epoch 40/100\n",
            "536/536 [==============================] - 1s 2ms/step - loss: 0.3533 - accuracy: 0.8498 - val_loss: 0.3714 - val_accuracy: 0.8448\n",
            "Epoch 41/100\n",
            "536/536 [==============================] - 1s 2ms/step - loss: 0.3521 - accuracy: 0.8520 - val_loss: 0.3706 - val_accuracy: 0.8448\n",
            "Epoch 42/100\n",
            "536/536 [==============================] - 1s 2ms/step - loss: 0.3511 - accuracy: 0.8524 - val_loss: 0.3699 - val_accuracy: 0.8459\n",
            "Epoch 43/100\n",
            "536/536 [==============================] - 1s 2ms/step - loss: 0.3501 - accuracy: 0.8517 - val_loss: 0.3691 - val_accuracy: 0.8463\n",
            "Epoch 44/100\n",
            "536/536 [==============================] - 1s 2ms/step - loss: 0.3492 - accuracy: 0.8528 - val_loss: 0.3685 - val_accuracy: 0.8455\n",
            "Epoch 45/100\n",
            "536/536 [==============================] - 1s 2ms/step - loss: 0.3482 - accuracy: 0.8537 - val_loss: 0.3678 - val_accuracy: 0.8459\n",
            "Epoch 46/100\n",
            "536/536 [==============================] - 1s 2ms/step - loss: 0.3474 - accuracy: 0.8545 - val_loss: 0.3674 - val_accuracy: 0.8448\n",
            "Epoch 47/100\n",
            "536/536 [==============================] - 1s 2ms/step - loss: 0.3466 - accuracy: 0.8556 - val_loss: 0.3667 - val_accuracy: 0.8455\n",
            "Epoch 48/100\n",
            "536/536 [==============================] - 1s 2ms/step - loss: 0.3460 - accuracy: 0.8556 - val_loss: 0.3664 - val_accuracy: 0.8459\n",
            "Epoch 49/100\n",
            "536/536 [==============================] - 1s 2ms/step - loss: 0.3453 - accuracy: 0.8554 - val_loss: 0.3658 - val_accuracy: 0.8455\n",
            "Epoch 50/100\n",
            "536/536 [==============================] - 1s 2ms/step - loss: 0.3447 - accuracy: 0.8563 - val_loss: 0.3654 - val_accuracy: 0.8455\n",
            "Epoch 51/100\n",
            "536/536 [==============================] - 1s 2ms/step - loss: 0.3441 - accuracy: 0.8559 - val_loss: 0.3649 - val_accuracy: 0.8451\n",
            "Epoch 52/100\n",
            "536/536 [==============================] - 1s 2ms/step - loss: 0.3437 - accuracy: 0.8572 - val_loss: 0.3647 - val_accuracy: 0.8448\n",
            "Epoch 53/100\n",
            "536/536 [==============================] - 1s 2ms/step - loss: 0.3430 - accuracy: 0.8578 - val_loss: 0.3644 - val_accuracy: 0.8448\n",
            "Epoch 54/100\n",
            "536/536 [==============================] - 1s 2ms/step - loss: 0.3425 - accuracy: 0.8582 - val_loss: 0.3638 - val_accuracy: 0.8448\n",
            "Epoch 55/100\n",
            "536/536 [==============================] - 1s 2ms/step - loss: 0.3419 - accuracy: 0.8587 - val_loss: 0.3635 - val_accuracy: 0.8448\n",
            "Epoch 56/100\n",
            "536/536 [==============================] - 1s 2ms/step - loss: 0.3414 - accuracy: 0.8574 - val_loss: 0.3635 - val_accuracy: 0.8451\n",
            "Epoch 57/100\n",
            "536/536 [==============================] - 1s 2ms/step - loss: 0.3408 - accuracy: 0.8595 - val_loss: 0.3628 - val_accuracy: 0.8459\n",
            "Epoch 58/100\n",
            "536/536 [==============================] - 1s 2ms/step - loss: 0.3404 - accuracy: 0.8591 - val_loss: 0.3626 - val_accuracy: 0.8455\n",
            "Epoch 59/100\n",
            "536/536 [==============================] - 1s 2ms/step - loss: 0.3400 - accuracy: 0.8586 - val_loss: 0.3624 - val_accuracy: 0.8455\n",
            "Epoch 60/100\n",
            "536/536 [==============================] - 1s 2ms/step - loss: 0.3396 - accuracy: 0.8595 - val_loss: 0.3621 - val_accuracy: 0.8466\n",
            "Epoch 61/100\n",
            "536/536 [==============================] - 1s 2ms/step - loss: 0.3392 - accuracy: 0.8589 - val_loss: 0.3617 - val_accuracy: 0.8470\n",
            "Epoch 62/100\n",
            "536/536 [==============================] - 1s 2ms/step - loss: 0.3389 - accuracy: 0.8597 - val_loss: 0.3615 - val_accuracy: 0.8463\n",
            "Epoch 63/100\n",
            "536/536 [==============================] - 1s 2ms/step - loss: 0.3384 - accuracy: 0.8600 - val_loss: 0.3611 - val_accuracy: 0.8493\n",
            "Epoch 64/100\n",
            "536/536 [==============================] - 1s 2ms/step - loss: 0.3381 - accuracy: 0.8591 - val_loss: 0.3613 - val_accuracy: 0.8474\n",
            "Epoch 65/100\n",
            "536/536 [==============================] - 1s 2ms/step - loss: 0.3377 - accuracy: 0.8591 - val_loss: 0.3610 - val_accuracy: 0.8482\n",
            "Epoch 66/100\n",
            "536/536 [==============================] - 1s 2ms/step - loss: 0.3373 - accuracy: 0.8604 - val_loss: 0.3606 - val_accuracy: 0.8485\n",
            "Epoch 67/100\n",
            "536/536 [==============================] - 1s 2ms/step - loss: 0.3369 - accuracy: 0.8597 - val_loss: 0.3603 - val_accuracy: 0.8504\n",
            "Epoch 68/100\n",
            "536/536 [==============================] - 1s 2ms/step - loss: 0.3367 - accuracy: 0.8600 - val_loss: 0.3606 - val_accuracy: 0.8493\n",
            "Epoch 69/100\n",
            "536/536 [==============================] - 1s 2ms/step - loss: 0.3362 - accuracy: 0.8615 - val_loss: 0.3601 - val_accuracy: 0.8497\n",
            "Epoch 70/100\n",
            "536/536 [==============================] - 1s 2ms/step - loss: 0.3363 - accuracy: 0.8595 - val_loss: 0.3605 - val_accuracy: 0.8493\n",
            "Epoch 71/100\n",
            "536/536 [==============================] - 1s 2ms/step - loss: 0.3360 - accuracy: 0.8602 - val_loss: 0.3602 - val_accuracy: 0.8497\n",
            "Epoch 72/100\n",
            "536/536 [==============================] - 1s 2ms/step - loss: 0.3357 - accuracy: 0.8612 - val_loss: 0.3599 - val_accuracy: 0.8504\n",
            "Epoch 73/100\n",
            "536/536 [==============================] - 1s 2ms/step - loss: 0.3354 - accuracy: 0.8599 - val_loss: 0.3598 - val_accuracy: 0.8512\n",
            "Epoch 74/100\n",
            "536/536 [==============================] - 1s 2ms/step - loss: 0.3353 - accuracy: 0.8602 - val_loss: 0.3596 - val_accuracy: 0.8523\n",
            "Epoch 75/100\n",
            "536/536 [==============================] - 1s 2ms/step - loss: 0.3349 - accuracy: 0.8604 - val_loss: 0.3597 - val_accuracy: 0.8512\n",
            "Epoch 76/100\n",
            "536/536 [==============================] - 1s 2ms/step - loss: 0.3349 - accuracy: 0.8610 - val_loss: 0.3597 - val_accuracy: 0.8512\n",
            "Epoch 77/100\n",
            "536/536 [==============================] - 1s 2ms/step - loss: 0.3346 - accuracy: 0.8608 - val_loss: 0.3590 - val_accuracy: 0.8516\n",
            "Epoch 78/100\n",
            "536/536 [==============================] - 1s 2ms/step - loss: 0.3344 - accuracy: 0.8600 - val_loss: 0.3589 - val_accuracy: 0.8512\n",
            "Epoch 79/100\n",
            "536/536 [==============================] - 1s 2ms/step - loss: 0.3342 - accuracy: 0.8606 - val_loss: 0.3587 - val_accuracy: 0.8516\n",
            "Epoch 80/100\n",
            "536/536 [==============================] - 1s 2ms/step - loss: 0.3339 - accuracy: 0.8615 - val_loss: 0.3590 - val_accuracy: 0.8504\n",
            "Epoch 81/100\n",
            "536/536 [==============================] - 1s 2ms/step - loss: 0.3338 - accuracy: 0.8612 - val_loss: 0.3589 - val_accuracy: 0.8512\n",
            "Epoch 82/100\n",
            "536/536 [==============================] - 1s 2ms/step - loss: 0.3336 - accuracy: 0.8600 - val_loss: 0.3586 - val_accuracy: 0.8523\n",
            "Epoch 83/100\n",
            "536/536 [==============================] - 1s 2ms/step - loss: 0.3334 - accuracy: 0.8600 - val_loss: 0.3584 - val_accuracy: 0.8519\n",
            "Epoch 84/100\n",
            "536/536 [==============================] - 1s 2ms/step - loss: 0.3332 - accuracy: 0.8614 - val_loss: 0.3582 - val_accuracy: 0.8512\n",
            "Epoch 85/100\n",
            "536/536 [==============================] - 1s 2ms/step - loss: 0.3330 - accuracy: 0.8614 - val_loss: 0.3578 - val_accuracy: 0.8516\n",
            "Epoch 86/100\n",
            "536/536 [==============================] - 1s 2ms/step - loss: 0.3330 - accuracy: 0.8589 - val_loss: 0.3576 - val_accuracy: 0.8504\n",
            "Epoch 87/100\n",
            "536/536 [==============================] - 1s 2ms/step - loss: 0.3328 - accuracy: 0.8612 - val_loss: 0.3575 - val_accuracy: 0.8508\n",
            "Epoch 88/100\n",
            "536/536 [==============================] - 1s 2ms/step - loss: 0.3327 - accuracy: 0.8619 - val_loss: 0.3575 - val_accuracy: 0.8504\n",
            "Epoch 89/100\n",
            "536/536 [==============================] - 1s 2ms/step - loss: 0.3325 - accuracy: 0.8606 - val_loss: 0.3573 - val_accuracy: 0.8493\n",
            "Epoch 90/100\n",
            "536/536 [==============================] - 1s 2ms/step - loss: 0.3324 - accuracy: 0.8619 - val_loss: 0.3569 - val_accuracy: 0.8508\n",
            "Epoch 91/100\n",
            "536/536 [==============================] - 2s 3ms/step - loss: 0.3323 - accuracy: 0.8612 - val_loss: 0.3569 - val_accuracy: 0.8508\n",
            "Epoch 92/100\n",
            "536/536 [==============================] - 1s 2ms/step - loss: 0.3322 - accuracy: 0.8610 - val_loss: 0.3568 - val_accuracy: 0.8493\n",
            "Epoch 93/100\n",
            "536/536 [==============================] - 1s 2ms/step - loss: 0.3320 - accuracy: 0.8610 - val_loss: 0.3566 - val_accuracy: 0.8512\n",
            "Epoch 94/100\n",
            "536/536 [==============================] - 1s 2ms/step - loss: 0.3320 - accuracy: 0.8610 - val_loss: 0.3564 - val_accuracy: 0.8504\n",
            "Epoch 95/100\n",
            "536/536 [==============================] - 1s 2ms/step - loss: 0.3317 - accuracy: 0.8612 - val_loss: 0.3566 - val_accuracy: 0.8501\n",
            "Epoch 96/100\n",
            "536/536 [==============================] - 1s 2ms/step - loss: 0.3316 - accuracy: 0.8621 - val_loss: 0.3566 - val_accuracy: 0.8497\n",
            "Epoch 97/100\n",
            "536/536 [==============================] - 1s 2ms/step - loss: 0.3315 - accuracy: 0.8619 - val_loss: 0.3566 - val_accuracy: 0.8493\n",
            "Epoch 98/100\n",
            "536/536 [==============================] - 1s 2ms/step - loss: 0.3313 - accuracy: 0.8615 - val_loss: 0.3567 - val_accuracy: 0.8489\n",
            "Epoch 99/100\n",
            "536/536 [==============================] - 1s 2ms/step - loss: 0.3314 - accuracy: 0.8628 - val_loss: 0.3565 - val_accuracy: 0.8497\n",
            "Epoch 100/100\n",
            "536/536 [==============================] - 1s 2ms/step - loss: 0.3313 - accuracy: 0.8615 - val_loss: 0.3563 - val_accuracy: 0.8485\n"
          ]
        }
      ]
    },
    {
      "cell_type": "code",
      "source": [
        "# list all data in history\n",
        "\n",
        "print(model_history.history.keys())\n",
        "# summarize history for accuracy\n",
        "plt.plot(model_history.history['accuracy'])\n",
        "plt.plot(model_history.history['val_accuracy'])\n",
        "plt.title('model accuracy')\n",
        "plt.ylabel('accuracy')\n",
        "plt.xlabel('epoch')\n",
        "plt.legend(['train', 'test'], loc='upper left')\n",
        "plt.show()"
      ],
      "metadata": {
        "colab": {
          "base_uri": "https://localhost:8080/",
          "height": 312
        },
        "id": "HiQZiK7Vi0Ng",
        "outputId": "3f8e3206-d996-4cca-b373-0a4c0edba74b"
      },
      "execution_count": null,
      "outputs": [
        {
          "output_type": "stream",
          "name": "stdout",
          "text": [
            "dict_keys(['loss', 'accuracy', 'val_loss', 'val_accuracy'])\n"
          ]
        },
        {
          "output_type": "display_data",
          "data": {
            "text/plain": [
              "<Figure size 432x288 with 1 Axes>"
            ],
            "image/png": "[encoded data removed]"
          },
          "metadata": {
            "needs_background": "light"
          }
        }
      ]
    },
    {
      "cell_type": "code",
      "source": [
        "# summarize history for loss\n",
        "plt.plot(model_history.history['loss'])\n",
        "plt.plot(model_history.history['val_loss'])\n",
        "plt.title('model loss')\n",
        "plt.ylabel('loss')\n",
        "plt.xlabel('epoch')\n",
        "plt.legend(['train', 'test'], loc='upper left')\n",
        "plt.show()"
      ],
      "metadata": {
        "colab": {
          "base_uri": "https://localhost:8080/",
          "height": 295
        },
        "id": "VPQLRcLikYrF",
        "outputId": "21820963-ab13-433d-96c0-701071629e31"
      },
      "execution_count": null,
      "outputs": [
        {
          "output_type": "display_data",
          "data": {
            "text/plain": [
              "<Figure size 432x288 with 1 Axes>"
            ],
            "image/png": "[encoded data removed]"
          },
          "metadata": {
            "needs_background": "light"
          }
        }
      ]
    },
    {
      "cell_type": "markdown",
      "source": [
        "# Part 3 - Making the predictions and evaluating the model\n"
      ],
      "metadata": {
        "id": "2P-1kQURksAN"
      }
    },
    {
      "cell_type": "code",
      "source": [
        "# Predicting the Test set results\n",
        "y_pred = classifier.predict(X_test)\n",
        "y_pred = (y_pred > 0.5)"
      ],
      "metadata": {
        "id": "gNx-ZoUSkoVo"
      },
      "execution_count": null,
      "outputs": []
    },
    {
      "cell_type": "code",
      "source": [
        "# Making the Confusion Matrix\n",
        "from sklearn.metrics import confusion_matrix\n",
        "cm = confusion_matrix(y_test, y_pred)"
      ],
      "metadata": {
        "id": "U_od8fdOkuqp"
      },
      "execution_count": null,
      "outputs": []
    },
    {
      "cell_type": "code",
      "source": [
        "# Calculate the Accuracy\n",
        "from sklearn.metrics import accuracy_score\n",
        "score=accuracy_score(y_pred,y_test)\n",
        "print(score)"
      ],
      "metadata": {
        "colab": {
          "base_uri": "https://localhost:8080/"
        },
        "id": "aSGS-i9-kwlc",
        "outputId": "3f319e72-83e9-43ea-d2d2-7f0c7cff2ae1"
      },
      "execution_count": null,
      "outputs": [
        {
          "output_type": "stream",
          "name": "stdout",
          "text": [
            "0.7975\n"
          ]
        }
      ]
    },
    {
      "cell_type": "code",
      "source": [
        ""
      ],
      "metadata": {
        "id": "L8I6pasBky8u"
      },
      "execution_count": null,
      "outputs": []
    }
  ]
}